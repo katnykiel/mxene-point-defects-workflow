{
 "cells": [
  {
   "cell_type": "markdown",
   "metadata": {},
   "source": [
    "# Convergence workflow\n",
    "## Kat Nykiel\n",
    "\n",
    "This notebook provides a demonstration of how to determine convergence for a given DTM MXene system"
   ]
  },
  {
   "cell_type": "markdown",
   "metadata": {},
   "source": [
    "### Define helper functions\n",
    "\n",
    "Here, we define two functions we can use in nanoHUB to create and run simulations"
   ]
  },
  {
   "cell_type": "code",
   "execution_count": null,
   "metadata": {
    "ExecuteTime": {
     "end_time": "2023-12-01T14:50:53.082981Z",
     "start_time": "2023-12-01T14:50:52.471906Z"
    }
   },
   "outputs": [],
   "source": [
    "import numpy as np\n",
    "from pymatgen.io.pwscf import PWInput\n",
    "from pymatgen.core import Structure\n",
    "from qe_functions import get_qe_outputs, get_convergence_plots\n",
    "\n",
    "def make_sim(name,struct,**kwargs):\n",
    "    \"\"\"\n",
    "    Generate quantum espresso input files using pymatgen's PWInput class\n",
    "    \n",
    "    Inputs:\n",
    "        name: chosen name for your simulation (i.e. ionic_relax)\n",
    "        struct: pymatgen structure object \n",
    "    Outputs: \n",
    "        n/a\n",
    "    **kwargs:\n",
    "        dictionaries to input to pymatgen's PWInput object\n",
    "    \"\"\"\n",
    "    # Prepare dict of pseudopotentials (i.e. {'Mg': 'Mg.upf', 'O': 'O.upf'})\n",
    "    elements = np.unique([site.species.elements[0].symbol for site in struct.sites])\n",
    "    pseudo_dict = dict(zip(elements,[f\"{element}.upf\" for element in elements]))\n",
    "\n",
    "    # Define input set\n",
    "    input_set = PWInput(structure=struct,\n",
    "                        pseudo=pseudo_dict,\n",
    "                        **kwargs) # dictionaries corresponding to blocks in QE input files\n",
    "\n",
    "    input_set.write_file(filename=f'{name}.in')\n",
    "    \n",
    "def run_sim(name,struct):\n",
    "    \"\"\"\n",
    "    Submit QuantumESPRESSO runs to HPC clusters from nanoHUB\n",
    "    \n",
    "    Inputs:\n",
    "        name: chosen name for your simulation (i.e. ionic_relax)\n",
    "        struct: pymatgen structure object \n",
    "    Outputs: \n",
    "        n/a\n",
    "    \"\"\"\n",
    "    # Write input and output files\n",
    "    input_file = open(f'{name}.in','a')\n",
    "    input_file.close()\n",
    "\n",
    "    output_file = open(f'{name}.out', 'w')\n",
    "    output_file.close()\n",
    "    \n",
    "    # Set up commands and files\n",
    "    elements = np.unique([site.species.elements[0].symbol for site in struct.sites])\n",
    "    pseudo_arg = \"\".join([f\"-i ./pseudo/pseudo_PAW/{element}.upf \" for element in elements])\n",
    "    COMMAND = f\"espresso-7.1_pw > {output_file.name}\"\n",
    "    \n",
    "    # Run simulation (1 node, 1 hour walltime)\n",
    "    !submit -n 1 -w '01:00:00' -e QE_DISABLE_GGA_PBE=0 --runName {name} {COMMAND} {pseudo_arg} -i {input_file.name}"
   ]
  },
  {
   "cell_type": "markdown",
   "metadata": {},
   "source": [
    "### Run a sample workflow"
   ]
  },
  {
   "cell_type": "code",
   "execution_count": null,
   "metadata": {
    "ExecuteTime": {
     "end_time": "2023-12-01T14:09:17.846568Z",
     "start_time": "2023-12-01T14:09:17.842565Z"
    }
   },
   "outputs": [],
   "source": [
    "# Load a DTM MXene structure\n",
    "struct = Structure.from_file(\"DTM-MXene.vasp\")"
   ]
  },
  {
   "cell_type": "code",
   "execution_count": null,
   "metadata": {
    "ExecuteTime": {
     "end_time": "2023-12-01T14:09:23.598021Z",
     "start_time": "2023-12-01T14:09:23.592402Z"
    }
   },
   "outputs": [],
   "source": [
    "# Modify MXene system as needed by mapping \"Nb\" to your system's inner element\n",
    "M = \"Nb\" # ENTER ELEMENT HERE\n",
    "struct.replace_species({\"Nb\":M})"
   ]
  },
  {
   "cell_type": "code",
   "execution_count": null,
   "metadata": {
    "ExecuteTime": {
     "start_time": "2023-12-01T14:25:14.636Z"
    }
   },
   "outputs": [],
   "source": [
    "# Create a variable cell relaxation simulation\n",
    "run_identifier = \"vcrelax\"\n",
    "make_sim(run_identifier, struct,\n",
    "         control={'pseudo_dir':'./',\n",
    "                  'calculation':'vc-relax',\n",
    "                  'outdir':'./',\n",
    "                  'tstress':True},\n",
    "         system={'ecutwfc':60},\n",
    "         kpoints_grid=[10, 10, 1],)\n",
    "\n",
    "# Run relax simulation\n",
    "run_sim(run_identifier, struct)"
   ]
  },
  {
   "cell_type": "markdown",
   "metadata": {},
   "source": [
    "### Check convergence"
   ]
  },
  {
   "cell_type": "code",
   "execution_count": null,
   "metadata": {
    "ExecuteTime": {
     "end_time": "2023-12-01T14:51:05.544373Z",
     "start_time": "2023-12-01T14:51:05.537392Z"
    }
   },
   "outputs": [],
   "source": [
    "# Extract outputs using helper function\n",
    "relax_dict = get_qe_outputs(f'{run_identifier}.stdout')\n",
    "\n",
    "# Get a list of all the extracted outputs\n",
    "[print(k) for k,v in relax_dict.items()];"
   ]
  },
  {
   "cell_type": "code",
   "execution_count": null,
   "metadata": {
    "ExecuteTime": {
     "end_time": "2023-12-01T14:51:17.422904Z",
     "start_time": "2023-12-01T14:51:17.419414Z"
    }
   },
   "outputs": [],
   "source": [
    "# Print relaxed structure\n",
    "relaxed_struct = relax_dict['structures']\n",
    "print(relaxed_struct)"
   ]
  },
  {
   "cell_type": "code",
   "execution_count": null,
   "metadata": {
    "ExecuteTime": {
     "end_time": "2023-12-01T14:51:07.104356Z",
     "start_time": "2023-12-01T14:51:05.921653Z"
    }
   },
   "outputs": [],
   "source": [
    "# Check a plot of energy convergence\n",
    "get_convergence_plots(step_dict=relax_dict,sim_name=run_identifier)"
   ]
  },
  {
   "cell_type": "code",
   "execution_count": null,
   "metadata": {},
   "outputs": [],
   "source": []
  }
 ],
 "metadata": {
  "kernelspec": {
   "display_name": "Python3 (MatProject)",
   "language": "python",
   "name": "matproject"
  },
  "language_info": {
   "codemirror_mode": {
    "name": "ipython",
    "version": 3
   },
   "file_extension": ".py",
   "mimetype": "text/x-python",
   "name": "python",
   "nbconvert_exporter": "python",
   "pygments_lexer": "ipython3",
   "version": "3.9.18"
  },
  "toc": {
   "base_numbering": 1,
   "nav_menu": {},
   "number_sections": true,
   "sideBar": true,
   "skip_h1_title": false,
   "title_cell": "Table of Contents",
   "title_sidebar": "Contents",
   "toc_cell": false,
   "toc_position": {},
   "toc_section_display": true,
   "toc_window_display": false
  },
  "varInspector": {
   "cols": {
    "lenName": 16,
    "lenType": 16,
    "lenVar": 40
   },
   "kernels_config": {
    "python": {
     "delete_cmd_postfix": "",
     "delete_cmd_prefix": "del ",
     "library": "var_list.py",
     "varRefreshCmd": "print(var_dic_list())"
    },
    "r": {
     "delete_cmd_postfix": ") ",
     "delete_cmd_prefix": "rm(",
     "library": "var_list.r",
     "varRefreshCmd": "cat(var_dic_list()) "
    }
   },
   "types_to_exclude": [
    "module",
    "function",
    "builtin_function_or_method",
    "instance",
    "_Feature"
   ],
   "window_display": false
  }
 },
 "nbformat": 4,
 "nbformat_minor": 2
}
