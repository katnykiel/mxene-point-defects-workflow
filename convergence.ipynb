{
 "cells": [
  {
   "cell_type": "markdown",
   "metadata": {},
   "source": [
    "# Convergence workflow\n",
    "## Kat Nykiel\n",
    "\n",
    "This notebook provides a demonstration of how to determine convergence for a given DTM MXene system"
   ]
  },
  {
   "cell_type": "markdown",
   "metadata": {},
   "source": [
    "### Define helper functions\n",
    "\n",
    "Here, we define two functions we can use in nanoHUB to create and run simulations"
   ]
  },
  {
   "cell_type": "code",
   "execution_count": null,
   "metadata": {},
   "outputs": [],
   "source": [
    "from pymatgen.io.pwscf import PWInput\n",
    "from pymatgen.core import Structure\n",
    "\n",
    "def make_sim(name,struct,**kwargs):\n",
    "    \"\"\"\n",
    "    Generate quantum espresso input files using pymatgen's PWInput class\n",
    "    \n",
    "    Inputs:\n",
    "        name: chosen name for your simulation (i.e. ionic_relax)\n",
    "        struct: pymatgen structure object \n",
    "    Outputs: \n",
    "        n/a\n",
    "    **kwargs:\n",
    "        dictionaries to input to pymatgen's PWInput object\n",
    "    \"\"\"\n",
    "    # Prepare dict of pseudopotentials (i.e. {'Mg': 'Mg.upf', 'O': 'O.upf'})\n",
    "    elements = np.unique([site.species.elements[0].symbol for site in struct.sites])\n",
    "    pseudo_dict = dict(zip(elements,[f\"{element}.upf\" for element in elements]))\n",
    "\n",
    "    # Define input set\n",
    "    input_set = PWInput(structure=struct,\n",
    "                        pseudo=pseudo_dict,\n",
    "                        **kwargs) # dictionaries corresponding to blocks in QE input files\n",
    "\n",
    "    input_set.write_file(filename=f'{name}.in')\n",
    "    \n",
    "def run_sim(name,struct):\n",
    "    \"\"\"\n",
    "    Submit QuantumESPRESSO runs to HPC clusters from nanoHUB\n",
    "    \n",
    "    Inputs:\n",
    "        name: chosen name for your simulation (i.e. ionic_relax)\n",
    "        struct: pymatgen structure object \n",
    "    Outputs: \n",
    "        n/a\n",
    "    \"\"\"\n",
    "    # Write input and output files\n",
    "    input_file = open(f'{name}.in','a')\n",
    "    input_file.close()\n",
    "\n",
    "    output_file = open(f'{name}.out', 'w')\n",
    "    output_file.close()\n",
    "    \n",
    "    # Set up commands and files\n",
    "    elements = np.unique([site.species.elements[0].symbol for site in struct.sites])\n",
    "    pseudo_arg = \"\".join([f\"-i ./pseudo/pseudo_PAW/{element}.upf \" for element in elements])\n",
    "    COMMAND = f\"espresso-6.8_pw > {output_file.name}\"\n",
    "    \n",
    "    # Run simulation (1 node, 1 hour walltime)\n",
    "    !submit -n 1 -w '01:00:00' -e QE_DISABLE_GGA_PBE=0 --runName {name} {COMMAND} {pseudo_arg} -i {input_file.name}"
   ]
  },
  {
   "cell_type": "markdown",
   "metadata": {},
   "source": [
    "### Run a sample workflow"
   ]
  },
  {
   "cell_type": "code",
   "execution_count": null,
   "metadata": {},
   "outputs": [],
   "source": [
    "# Load a DTM MXene structure\n",
    "struct = Structure.from_file(\"DTM-MXene.vasp\")"
   ]
  },
  {
   "cell_type": "code",
   "execution_count": null,
   "metadata": {},
   "outputs": [],
   "source": [
    "# Create an ionic relaxation sim\n",
    "make_sim(\"relax\", struct,\n",
    "         control={'pseudo_dir':'./',\n",
    "                  'calculation':'relax',\n",
    "                  'outdir':'./',\n",
    "                  'tstress':True},\n",
    "         system={'ecutwfc':50})\n",
    "\n",
    "# Run relax simulation\n",
    "run_sim(\"relax\", struct)"
   ]
  }
 ],
 "metadata": {
  "kernelspec": {
   "display_name": "atomate2",
   "language": "python",
   "name": "atomate2"
  },
  "language_info": {
   "name": "python",
   "version": "3.9.18"
  }
 },
 "nbformat": 4,
 "nbformat_minor": 2
}
